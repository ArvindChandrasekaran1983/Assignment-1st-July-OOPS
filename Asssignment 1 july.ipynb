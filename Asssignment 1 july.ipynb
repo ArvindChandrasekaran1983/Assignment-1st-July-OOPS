{
 "cells": [
  {
   "cell_type": "markdown",
   "id": "bb01b8d6",
   "metadata": {},
   "source": [
    "### 1. What is the primary goal of Object-Oriented Programming (OOP)?\n",
    "\n",
    "#### Ans: The primary goal of Object-Oriented Programming (OOP) is to provide a way of organizing and structuring code that promotes modularity, reusability, and maintainability"
   ]
  },
  {
   "cell_type": "markdown",
   "id": "02ca83f3",
   "metadata": {},
   "source": [
    "### 2. What is an object in Python?\n",
    "\n",
    "#### Ans: The object represents the specific instance of a class.The object is created from class , which is a blueprint for creating objects with attributes (variables) and methods."
   ]
  },
  {
   "cell_type": "markdown",
   "id": "fac5e74e",
   "metadata": {},
   "source": [
    "### 3. What is a class in Python?\n",
    "\n",
    "#### Ans: A class is a blueprint that defines the properties(attributes) and behavious(methods) that an object of the class should have. It also helps in creating objects with similar characteristcs and functionalities"
   ]
  },
  {
   "cell_type": "markdown",
   "id": "decedf0c",
   "metadata": {},
   "source": [
    "### 4. What are attributes and methods in a class?\n",
    "\n",
    "#### Ans :\n",
    "1. Attributes:\n",
    " Attributes represent the data or information associated with the Object.They are the variables that store the state of anobject.Attributes are defined as variables within the class and are used to describe the characteristics or properties of Objects.\n",
    " \n",
    "2. Methods:\n",
    "Methods are functions defined within the class that can perform operations or actios on the object of that class."
   ]
  },
  {
   "cell_type": "markdown",
   "id": "2eb71a62",
   "metadata": {},
   "source": [
    "### 5. What is the difference between class variables and instance variables in Python?\n",
    "\n",
    "#### Ans :\n",
    "1. Class Variables:\n",
    "are variables that are shared among all instances. They are used to store the data that is common to all the objects of the class  and can be accessed by using the class name followed by the variable name.\n",
    "\n",
    "2. Instance variables:\n",
    "are defined within the methods of a class and are unique to each instance(object) of the class. Instance variables are accessed using the 'self' keyword within instance methods."
   ]
  },
  {
   "cell_type": "markdown",
   "id": "345ea1b9",
   "metadata": {},
   "source": [
    "### 6. What is the purpose of the self parameter in Python class methods?\n",
    "\n",
    "#### Ans. Self Parameter helps in referring to the specific instance or current instance"
   ]
  },
  {
   "cell_type": "markdown",
   "id": "4ee253fa",
   "metadata": {},
   "source": [
    "## Creating a Book Class with the attributes and methods"
   ]
  },
  {
   "cell_type": "markdown",
   "id": "d3ec7cf2",
   "metadata": {},
   "source": [
    "### 7. For a library management system, you have to design the \"Book\" class with OOP principles in mind. \n",
    "\n",
    "The “Book” class will have following attributes:\n",
    "\n",
    "a. title: Represents the title of the book.\n",
    "\n",
    "b. author: Represents the author(s) of the book.\n",
    "\n",
    "c. isbn: Represents the ISBN (International Standard Book Number) of the book.\n",
    "\n",
    "d. publication_year: Represents the year of publication of the book.\n",
    "\n",
    "e. available_copies: Represents the number of copies available for checkout.\n",
    "\n",
    "The class will also include the following methods:\n",
    "\n",
    "a. check_out(self): Decrements the available copies by one if there are copies\n",
    "available for checkout.\n",
    "\n",
    "b. return_book(self): Increments the available copies by one when a book is\n",
    "returned.\n",
    "\n",
    "c. display_book_info(self): Displays the information about the book, including its\n",
    "attributes and the number of available copies.\n"
   ]
  },
  {
   "cell_type": "code",
   "execution_count": 1,
   "id": "05b927be",
   "metadata": {},
   "outputs": [],
   "source": [
    "#### Creating a Book Class having title,author,isbn,publication_year,available_copies\n",
    "class Book():\n",
    "    def __init__(self,title,author,isbn,publication_year,available_copies):\n",
    "        self.title=title\n",
    "        self.author=author\n",
    "        self.isbn=isbn\n",
    "        self.publication_year=publication_year\n",
    "        self.available_copies=available_copies\n",
    "        \n",
    "    ## Defining the method check out:\n",
    "        \n",
    "    def check_out(self):\n",
    "        if self.available_copies>0:\n",
    "            self.available_copies -=1  ## The number of copies will decrease\n",
    "            print(f\"Book {self.title} checked out successfully\")\n",
    "            \n",
    "        else:\n",
    "            print(f\" Book {self.title} is unavailable\")\n",
    "            \n",
    "     ## Defining the method retun book\n",
    "            \n",
    "    def return_book(self):\n",
    "        self.available_copies+=1  ## This will add the copies to the total number of available copies\n",
    "        print(f\" Book {self.title} returned successfully\")\n",
    "              \n",
    "    def display_book_info(self):  ## This will display the book information alongwith the available copies\n",
    "        print(\"Book Information:\")\n",
    "        print(f\" Title:{self.title}\")\n",
    "        print(f\" Author:{self.author}\")\n",
    "        print(f\" Isbn:{self.isbn}\")\n",
    "        print(f\" Publication_year:{self.publication_year}\")\n",
    "        print(f\" Available_copies:{self.available_copies}\")    "
   ]
  },
  {
   "cell_type": "markdown",
   "id": "bc5d2493",
   "metadata": {},
   "source": [
    "## Testing of the above Code"
   ]
  },
  {
   "cell_type": "code",
   "execution_count": 2,
   "id": "87027ffb",
   "metadata": {},
   "outputs": [
    {
     "name": "stdout",
     "output_type": "stream",
     "text": [
      "Book Information:\n",
      " Title:Murder in the Orient Express\n",
      " Author:Agatha Christie\n",
      " Isbn:8523132455\n",
      " Publication_year:1998\n",
      " Available_copies:5\n",
      "Book Murder in the Orient Express checked out successfully\n",
      "Book Information:\n",
      " Title:Murder in the Orient Express\n",
      " Author:Agatha Christie\n",
      " Isbn:8523132455\n",
      " Publication_year:1998\n",
      " Available_copies:4\n",
      " Book Murder in the Orient Express returned successfully\n",
      "Book Information:\n",
      " Title:Murder in the Orient Express\n",
      " Author:Agatha Christie\n",
      " Isbn:8523132455\n",
      " Publication_year:1998\n",
      " Available_copies:5\n"
     ]
    }
   ],
   "source": [
    "book1=Book(\"Murder in the Orient Express\",\"Agatha Christie\",8523132455,1998,5)\n",
    "## Display Book Info\n",
    "book1.display_book_info()\n",
    "\n",
    "## Book Check out\n",
    "book1.check_out()\n",
    "\n",
    "## Display Book Info\n",
    "book1.display_book_info()\n",
    "\n",
    "## Return Book\n",
    "\n",
    "book1.return_book()\n",
    "\n",
    "## Display Book Info\n",
    "book1.display_book_info()"
   ]
  },
  {
   "cell_type": "markdown",
   "id": "ee3591ca",
   "metadata": {},
   "source": [
    "# Creating a Ticket Booking System with the attibutes and methods"
   ]
  },
  {
   "cell_type": "markdown",
   "id": "9e515b7f",
   "metadata": {},
   "source": [
    "### 8. For a ticket booking system, you have to design the \"Ticket\" class with OOP\n",
    "\n",
    "principles in mind. The “Ticket” class should have the following attributes:\n",
    "\n",
    "a. ticket_id: Represents the unique identifier for the ticket.\n",
    "\n",
    "b. event_name: Represents the name of the event.\n",
    "\n",
    "c. event_date: Represents the date of the event.\n",
    "\n",
    "d. venue: Represents the venue of the event.\n",
    "\n",
    "e. seat_number: Represents the seat number associated with the ticket.\n",
    "\n",
    "f. price: Represents the price of the ticket.\n",
    "\n",
    "g. is_reserved: Represents the reservation status of the ticket.\n",
    "\n",
    "The class also includes the following methods:\n",
    "a. reserve_ticket(self): Marks the ticket as reserved if it is not already reserved.\n",
    "\n",
    "b. cancel_reservation(self): Cancels the reservation of the ticket if it is already\n",
    "reserved.\n",
    "\n",
    "c. display_ticket_info(self): Displays the information about the ticket, including its\n",
    "attributes and reservation status."
   ]
  },
  {
   "cell_type": "code",
   "execution_count": 3,
   "id": "566548ae",
   "metadata": {},
   "outputs": [],
   "source": [
    "## Creating a class Ticket\n",
    "\n",
    "class Ticket():\n",
    "    def __init__(self,ticket_id,event_name,event_date,venue,seat_number,price,is_reserved):\n",
    "        self.ticket_id=ticket_id\n",
    "        self.event_name=event_name\n",
    "        self.event_date=event_date\n",
    "        self.venue=venue\n",
    "        self.seat_number=seat_number\n",
    "        self.price=price\n",
    "        self.is_reserved=False\n",
    "        \n",
    "    def reserve_ticket(self):\n",
    "        if not self.is_reserved:\n",
    "            self.is_reserved=True\n",
    "            print(f\" Ticket Reserved Successfully\")\n",
    "        else:\n",
    "                  print(f\" The ticket is already reserved\")\n",
    "                \n",
    "    def cancel_reservation(self):\n",
    "        if self.is_reserved:\n",
    "            self.is_reserved = False\n",
    "            print(\"Ticket reservation canceled.\")\n",
    "        else:\n",
    "            print(\"Ticket is not reserved.\")\n",
    "            \n",
    "    def display_ticket_info(self):\n",
    "        print(\"Ticket ID:\", self.ticket_id)\n",
    "        print(\"Event Name:\", self.event_name)\n",
    "        print(\"Event Date:\", self.event_date)\n",
    "        print(\"Venue:\", self.venue)\n",
    "        print(\"Seat Number:\", self.seat_number)\n",
    "        print(\"Price:\", self.price)\n",
    "        print(\"Reservation Status:\", \"Reserved\" if self.is_reserved else \"Not Reserved\")"
   ]
  },
  {
   "cell_type": "code",
   "execution_count": 4,
   "id": "4ed9b1e4",
   "metadata": {},
   "outputs": [
    {
     "name": "stdout",
     "output_type": "stream",
     "text": [
      "Ticket ID: T001\n",
      "Event Name: Concert\n",
      "Event Date: 2023-07-20\n",
      "Venue: City Stadium\n",
      "Seat Number: A1\n",
      "Price: 50.0\n",
      "Reservation Status: Not Reserved\n",
      " Ticket Reserved Successfully\n",
      "Ticket reservation canceled.\n",
      "Ticket ID: T001\n",
      "Event Name: Concert\n",
      "Event Date: 2023-07-20\n",
      "Venue: City Stadium\n",
      "Seat Number: A1\n",
      "Price: 50.0\n",
      "Reservation Status: Not Reserved\n"
     ]
    }
   ],
   "source": [
    "## Example\n",
    "\n",
    "ticket1 = Ticket(\"T001\", \"Concert\", \"2023-07-20\", \"City Stadium\", \"A1\", 50.00,\"Reserved\")\n",
    "\n",
    "# Displaying ticket information\n",
    "ticket1.display_ticket_info()\n",
    "\n",
    "# Reserving the ticket\n",
    "ticket1.reserve_ticket()\n",
    "\n",
    "# Cancelling the reservation\n",
    "ticket1.cancel_reservation()\n",
    "\n",
    "# Displaying ticket information again\n",
    "ticket1.display_ticket_info()"
   ]
  },
  {
   "cell_type": "markdown",
   "id": "5244ecd6",
   "metadata": {},
   "source": [
    "# 8. You are creating a shopping cart for an e-commerce website. Using OOP to model\n",
    "the \"ShoppingCart\" functionality the class should contain following attributes and\n",
    "methods:\n",
    "\n",
    "a. items: Represents the list of items in the shopping cart.\n",
    "\n",
    "The class also includes the following methods:\n",
    "\n",
    "a. add_item(self, item): Adds an item to the shopping cart by appending it to the\n",
    "list of items.\n",
    "\n",
    "b. remove_item(self, item): Removes an item from the shopping cart if it exists in\n",
    "the list.\n",
    "\n",
    "c. view_cart(self): Displays the items currently present in the shopping cart.\n",
    "\n",
    "d. clear_cart(self): Clears all items from the shopping cart by reassigning an\n",
    "empty list to the items attribute."
   ]
  },
  {
   "cell_type": "code",
   "execution_count": 5,
   "id": "efab7118",
   "metadata": {},
   "outputs": [],
   "source": [
    "class ShoppingCart:\n",
    "    def __init__(self):\n",
    "        self.items = []\n",
    "\n",
    "    def add_item(self, item):\n",
    "        self.items.append(item)\n",
    "\n",
    "    def remove_item(self, item):\n",
    "        if item in self.items:\n",
    "            self.items.remove(item)\n",
    "\n",
    "    def view_cart(self):\n",
    "        if not self.items:\n",
    "            print(\"Your shopping cart is empty.\")\n",
    "        else:\n",
    "            print(\"Items in your shopping cart:\")\n",
    "            for item in self.items:\n",
    "                print(\"- \" + item)\n",
    "\n",
    "    def clear_cart(self):\n",
    "        self.items = []"
   ]
  },
  {
   "cell_type": "code",
   "execution_count": 6,
   "id": "9cb5e94f",
   "metadata": {},
   "outputs": [
    {
     "name": "stdout",
     "output_type": "stream",
     "text": [
      "Items in your shopping cart:\n",
      "- Shirt\n",
      "- Shoes\n",
      "- Hat\n",
      "Items in your shopping cart:\n",
      "- Shirt\n",
      "- Hat\n",
      "Your shopping cart is empty.\n"
     ]
    }
   ],
   "source": [
    "## Example USAGE\n",
    "\n",
    "if __name__ == \"__main__\":\n",
    "    cart = ShoppingCart()\n",
    "\n",
    "    cart.add_item(\"Shirt\")\n",
    "    cart.add_item(\"Shoes\")\n",
    "    cart.add_item(\"Hat\")\n",
    "\n",
    "    cart.view_cart()\n",
    "\n",
    "    cart.remove_item(\"Shoes\")\n",
    "\n",
    "    cart.view_cart()\n",
    "\n",
    "    cart.clear_cart()\n",
    "\n",
    "    cart.view_cart()"
   ]
  },
  {
   "cell_type": "markdown",
   "id": "701e0d45",
   "metadata": {},
   "source": [
    "## 10. Imagine a school management system. You have to design the \"Student\" class using\n",
    "OOP concepts.The “Student” class has the following attributes:\n",
    "\n",
    "a. name: Represents the name of the student.\n",
    "\n",
    "b. age: Represents the age of the student.\n",
    "\n",
    "c. grade: Represents the grade or class of the student.\n",
    "\\\n",
    "d. student_id: Represents the unique identifier for the student.\n",
    "\n",
    "e. attendance: Represents the attendance record of the student.\n",
    "\n",
    "The class should also include the following methods:\n",
    "\n",
    "a. update_attendance(self, date, status): Updates the attendance record of the\n",
    "student for a given date with the provided status (e.g., present or absent).\n",
    "\n",
    "b. get_attendance(self): Returns the attendance record of the student.\n",
    "\n",
    "c. get_average_attendance(self): Calculates and returns the average\n",
    "attendance percentage of the student based on their attendance record."
   ]
  },
  {
   "cell_type": "code",
   "execution_count": 7,
   "id": "b37366b6",
   "metadata": {},
   "outputs": [],
   "source": [
    "class Student:\n",
    "    def __init__(self, name, age, grade, student_id):\n",
    "        self.name = name\n",
    "        self.age = age\n",
    "        self.grade = grade\n",
    "        self.student_id = student_id\n",
    "        self.attendance = {}\n",
    "\n",
    "    def update_attendance(self, date, status):\n",
    "        if status.lower() not in ['present', 'absent']:\n",
    "            raise ValueError(\"Status must be 'present' or 'absent'\")\n",
    "        self.attendance[date] = status.lower()\n",
    "\n",
    "    def get_attendance(self):\n",
    "        return self.attendance\n",
    "    \n",
    "    def get_average_attendance(self):\n",
    "        total_days = len(self.attendance)\n",
    "        if total_days == 0:\n",
    "            return 0.0\n",
    "        present_days = sum(1 for status in self.attendance.values() if status == 'present')\n",
    "        average_attendance = (present_days / total_days) * 100\n",
    "        return average_attendance"
   ]
  },
  {
   "cell_type": "code",
   "execution_count": 9,
   "id": "18d1e831",
   "metadata": {},
   "outputs": [
    {
     "name": "stdout",
     "output_type": "stream",
     "text": [
      "John Doe's attendance record: {'2023-07-21': 'present', '2023-07-22': 'present', '2023-07-23': 'absent'}\n",
      "John Doe's average attendance: 66.66666666666666%\n"
     ]
    }
   ],
   "source": [
    "## EDxample usage\n",
    "\n",
    "student1 = Student(\"John Doe\", 15, \"12th\", \"STU1234\")\n",
    "student1.update_attendance(\"2023-07-21\", \"present\")\n",
    "student1.update_attendance(\"2023-07-22\", \"present\")\n",
    "student1.update_attendance(\"2023-07-23\", \"absent\")\n",
    "\n",
    "print(f\"{student1.name}'s attendance record: {student1.get_attendance()}\")\n",
    "print(f\"{student1.name}'s average attendance: {student1.get_average_attendance()}%\")"
   ]
  }
 ],
 "metadata": {
  "kernelspec": {
   "display_name": "Python 3 (ipykernel)",
   "language": "python",
   "name": "python3"
  },
  "language_info": {
   "codemirror_mode": {
    "name": "ipython",
    "version": 3
   },
   "file_extension": ".py",
   "mimetype": "text/x-python",
   "name": "python",
   "nbconvert_exporter": "python",
   "pygments_lexer": "ipython3",
   "version": "3.9.12"
  }
 },
 "nbformat": 4,
 "nbformat_minor": 5
}
